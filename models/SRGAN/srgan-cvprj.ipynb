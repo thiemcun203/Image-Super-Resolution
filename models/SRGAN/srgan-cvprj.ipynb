{
 "cells": [
  {
   "cell_type": "markdown",
   "id": "b402e39f",
   "metadata": {
    "_cell_guid": "b1076dfc-b9ad-4769-8c92-a6c4dae69d19",
    "_uuid": "8f2839f25d086af736a60e9eeb907d3b93b6e0e5",
    "execution": {
     "iopub.execute_input": "2024-01-03T17:17:02.328327Z",
     "iopub.status.busy": "2024-01-03T17:17:02.32768Z",
     "iopub.status.idle": "2024-01-03T17:17:02.34062Z",
     "shell.execute_reply": "2024-01-03T17:17:02.338685Z",
     "shell.execute_reply.started": "2024-01-03T17:17:02.328289Z"
    },
    "papermill": {
     "duration": 0.009625,
     "end_time": "2024-03-22T08:37:49.261849",
     "exception": false,
     "start_time": "2024-03-22T08:37:49.252224",
     "status": "completed"
    },
    "tags": []
   },
   "source": [
    "<h3>DATA PREPROCESSING</h3>"
   ]
  },
  {
   "cell_type": "code",
   "execution_count": 1,
   "id": "bfea6d6c",
   "metadata": {
    "execution": {
     "iopub.execute_input": "2024-03-22T08:37:49.282185Z",
     "iopub.status.busy": "2024-03-22T08:37:49.281821Z",
     "iopub.status.idle": "2024-03-22T08:37:56.950132Z",
     "shell.execute_reply": "2024-03-22T08:37:56.949152Z"
    },
    "papermill": {
     "duration": 7.681323,
     "end_time": "2024-03-22T08:37:56.952633",
     "exception": false,
     "start_time": "2024-03-22T08:37:49.271310",
     "status": "completed"
    },
    "tags": []
   },
   "outputs": [],
   "source": [
    "import os\n",
    "import gc\n",
    "import random\n",
    "import time\n",
    "from tqdm import tqdm\n",
    "import numpy as np\n",
    "\n",
    "import matplotlib.pyplot as plt\n",
    "from PIL import Image\n",
    "\n",
    "import torch\n",
    "import torch.nn as nn\n",
    "import torch.nn.functional as F\n",
    "from torch.utils.data import Dataset, DataLoader, ConcatDataset\n",
    "from torchvision import transforms\n",
    "from torchvision.transforms import Compose\n",
    "from torchvision.models import vgg19\n",
    "from torchmetrics.functional.image import structural_similarity_index_measure as ssim\n",
    "import wandb"
   ]
  },
  {
   "cell_type": "code",
   "execution_count": 2,
   "id": "10afb6e0",
   "metadata": {
    "execution": {
     "iopub.execute_input": "2024-03-22T08:37:56.972310Z",
     "iopub.status.busy": "2024-03-22T08:37:56.971969Z",
     "iopub.status.idle": "2024-03-22T08:37:56.983851Z",
     "shell.execute_reply": "2024-03-22T08:37:56.982949Z"
    },
    "papermill": {
     "duration": 0.024012,
     "end_time": "2024-03-22T08:37:56.985835",
     "exception": false,
     "start_time": "2024-03-22T08:37:56.961823",
     "status": "completed"
    },
    "tags": []
   },
   "outputs": [],
   "source": [
    "class DF2KDataset(Dataset):\n",
    "    def __init__(self, hr_images_path, random_crop:bool=True, transforms:Compose=None, output_size:tuple=(256, 256), seed:int=1989):\n",
    "        super(DF2KDataset, self).__init__()\n",
    "        \n",
    "        self.hr_images_path = hr_images_path\n",
    "        \n",
    "        hr_images_list = os.listdir(hr_images_path)\n",
    "        \n",
    "        self.hr_images_list = [hr_images_path + image_name for image_name in hr_images_list]\n",
    "        \n",
    "        self.random_crop = random_crop\n",
    "        self.transforms = transforms\n",
    "        self.output_size = output_size\n",
    "        self.seed = seed\n",
    "    \n",
    "    def __getitem__(self, idx):\n",
    "        hr_image_path = self.hr_images_list[idx]\n",
    "        lr_image_path = hr_image_path.replace('.png', 'x4.png').replace('HR', 'LR_bicubic_X4')\n",
    "        \n",
    "        hr_image = Image.open(hr_image_path)\n",
    "        lr_image = Image.open(lr_image_path)\n",
    "        \n",
    "        # -------------------- RANDOM CROP -------------------- #\n",
    "        if self.random_crop:\n",
    "            w, h = hr_image.size\n",
    "            th, tw = self.output_size\n",
    "            random.seed(self.seed + idx)\n",
    "            i = random.choice(list(range(0, h-th+1, 4)))\n",
    "            j = random.choice(list(range(0, w-tw+1, 4)))\n",
    "\n",
    "            hr_image = transforms.functional.crop(hr_image, i, j, th, tw)\n",
    "            lr_image = transforms.functional.crop(lr_image, i//4, j//4, th//4, tw//4)\n",
    "            \n",
    "        # -------------------- TO TENSOR -------------------- #\n",
    "        hr_image = transforms.functional.to_tensor(hr_image)\n",
    "        lr_image = transforms.functional.to_tensor(lr_image)\n",
    "        \n",
    "        # -------------------- OTHER TRANSFORMATIONS -------------------- #\n",
    "        if self.transforms:\n",
    "            torch.manual_seed(seed=self.seed)\n",
    "            hr_image = self.transforms(hr_image)\n",
    "            torch.manual_seed(seed=self.seed)\n",
    "            lr_image = self.transforms(lr_image)\n",
    "        \n",
    "        return hr_image, lr_image\n",
    "        \n",
    "    def __len__(self):\n",
    "        return len(self.hr_images_list)"
   ]
  },
  {
   "cell_type": "code",
   "execution_count": 3,
   "id": "66cb8b72",
   "metadata": {
    "execution": {
     "iopub.execute_input": "2024-03-22T08:37:57.004156Z",
     "iopub.status.busy": "2024-03-22T08:37:57.003866Z",
     "iopub.status.idle": "2024-03-22T08:37:57.012298Z",
     "shell.execute_reply": "2024-03-22T08:37:57.011534Z"
    },
    "papermill": {
     "duration": 0.019689,
     "end_time": "2024-03-22T08:37:57.014084",
     "exception": false,
     "start_time": "2024-03-22T08:37:56.994395",
     "status": "completed"
    },
    "tags": []
   },
   "outputs": [],
   "source": [
    "class DF2KDataLoader(DataLoader):\n",
    "    def __init__(self, hr_images_path, \n",
    "                 random_crop:bool=True, transforms:Compose=None, output_size:tuple=(256, 256), seed:int=1989,\n",
    "                 batch_size:int=16, shuffle:bool=True, num_crops:int=1):\n",
    "        \"\"\"\n",
    "        - hr_images_path: str\n",
    "            Path to the high-resolution images\n",
    "        - random_crop: bool\n",
    "            Whether to crop the images. Default is True. You might want to crop on the training set, but not on the validation set.\n",
    "        - transforms: Compose\n",
    "            A Compose of transformations, applied similarly on both high-res and low-res images.\n",
    "            >> NOTE: Some transformations might worsen the quality of image, so consider carefully.\n",
    "        - output_size: tuple\n",
    "            Size of the random crop applied to an image. Default is 256x256.\n",
    "            >> NOTE: Only meaningful when `random_crop` is True.\n",
    "        - seed: int\n",
    "            A random number, meant to keep all transformations the same for high-res and low-res images\n",
    "        - num_crops: int\n",
    "            The number of random crops applied to an image. Size of dataset is multiplied accordingly. Default is 1.\n",
    "            >> NOTE: Only meaningful when `random_crop` is True.\n",
    "        \"\"\"\n",
    "        if random_crop and num_crops > 1:\n",
    "            random.seed(1989)\n",
    "            sub_datasets = [DF2KDataset(hr_images_path, random_crop=random_crop, transforms=transforms, output_size=output_size, seed=seed+int(random.random()*10)) \n",
    "                            for _ in range(num_crops)]\n",
    "            self.dataset = ConcatDataset(sub_datasets)\n",
    "        else:\n",
    "            self.dataset = DF2KDataset(hr_images_path, random_crop=random_crop, transforms=transforms, output_size=output_size, seed=seed)\n",
    "        super().__init__(self.dataset, batch_size=batch_size, shuffle=shuffle)"
   ]
  },
  {
   "cell_type": "markdown",
   "id": "21b8caaf",
   "metadata": {
    "papermill": {
     "duration": 0.00861,
     "end_time": "2024-03-22T08:37:57.031223",
     "exception": false,
     "start_time": "2024-03-22T08:37:57.022613",
     "status": "completed"
    },
    "tags": []
   },
   "source": [
    "### EXAMPLE USAGE"
   ]
  },
  {
   "cell_type": "code",
   "execution_count": 4,
   "id": "dd5c4a41",
   "metadata": {
    "execution": {
     "iopub.execute_input": "2024-03-22T08:37:57.049844Z",
     "iopub.status.busy": "2024-03-22T08:37:57.049544Z",
     "iopub.status.idle": "2024-03-22T08:37:57.292076Z",
     "shell.execute_reply": "2024-03-22T08:37:57.291289Z"
    },
    "papermill": {
     "duration": 0.254649,
     "end_time": "2024-03-22T08:37:57.294531",
     "exception": false,
     "start_time": "2024-03-22T08:37:57.039882",
     "status": "completed"
    },
    "tags": []
   },
   "outputs": [],
   "source": [
    "HR_IMAGES_PATH_TRAIN = \"/kaggle/input/df2k-with-bicubic-x4/dataset/DF2K_train_HR/\"\n",
    "HR_IMAGES_PATH_VALID = \"/kaggle/input/df2k-with-bicubic-x4/dataset/DIV2K_valid_HR/\"\n",
    "\n",
    "class RandomRotation(object):\n",
    "    def __call__(self, img):\n",
    "        rotation_angle = torch.randint(0,3,(1,)).item()* 90\n",
    "        return transforms.functional.rotate(img, rotation_angle)\n",
    "\n",
    "TRANSFORMS = Compose([\n",
    "    transforms.RandomHorizontalFlip(),\n",
    "    RandomRotation()\n",
    "])\n",
    "# NOTE: Refer to the source code above to navigate the paramters when initializing a DataLoader for this dataset.\n",
    "train_dataloader = DF2KDataLoader(hr_images_path=HR_IMAGES_PATH_TRAIN,\n",
    "                                  random_crop=True, transforms=TRANSFORMS, output_size=(256, 256),seed=1989,\n",
    "                                  batch_size=16, shuffle=True, num_crops=1)\n",
    "# NOTE: For the validation dataloader, batch_size should always be 1, because the dimensions of each picture are \n",
    "# different, making them unstackable in the dataloader. In the case you do not want to do so, let random_crop be \n",
    "# True and add an output_size, and num_crops if you would like to have multiple crops per validation image.\n",
    "valid_dataloader = DF2KDataLoader(hr_images_path=HR_IMAGES_PATH_VALID,\n",
    "                                  random_crop=False, transforms=None, seed=1989,\n",
    "                                  batch_size = 1, shuffle=False)"
   ]
  },
  {
   "cell_type": "code",
   "execution_count": 5,
   "id": "92f9445b",
   "metadata": {
    "execution": {
     "iopub.execute_input": "2024-03-22T08:37:57.313612Z",
     "iopub.status.busy": "2024-03-22T08:37:57.313286Z",
     "iopub.status.idle": "2024-03-22T08:38:01.678493Z",
     "shell.execute_reply": "2024-03-22T08:38:01.677539Z"
    },
    "papermill": {
     "duration": 4.377402,
     "end_time": "2024-03-22T08:38:01.681008",
     "exception": false,
     "start_time": "2024-03-22T08:37:57.303606",
     "status": "completed"
    },
    "tags": []
   },
   "outputs": [
    {
     "name": "stdout",
     "output_type": "stream",
     "text": [
      "Length of train_dataloader: 216\n",
      ">> Size of high-res image: torch.Size([256, 256, 3])\n",
      ">> Size of low-res image: torch.Size([64, 64, 3])\n"
     ]
    },
    {
     "data": {
      "image/png": "[encoded data removed]",
      "text/plain": [
       "<Figure size 640x480 with 2 Axes>"
      ]
     },
     "metadata": {},
     "output_type": "display_data"
    }
   ],
   "source": [
    "print(\"Length of train_dataloader: {}\".format(len(train_dataloader)))\n",
    "hrs, lrs = next(iter(train_dataloader))\n",
    "\n",
    "hr = hrs[0].permute((1, 2, 0))\n",
    "lr = lrs[0].permute((1, 2, 0))\n",
    "\n",
    "print(\">> Size of high-res image:\", hr.size())\n",
    "print(\">> Size of low-res image:\", lr.size())\n",
    "fig, axs = plt.subplots(1, 2)\n",
    "\n",
    "axs[0].imshow(hr)\n",
    "axs[0].set_title('High Resolution')\n",
    "axs[1].imshow(lr)\n",
    "axs[1].set_title('Low Resolution')\n",
    "\n",
    "for ax in axs.flat:\n",
    "    ax.axis('off')\n",
    "\n",
    "plt.show()"
   ]
  },
  {
   "cell_type": "code",
   "execution_count": 6,
   "id": "416310cb",
   "metadata": {
    "execution": {
     "iopub.execute_input": "2024-03-22T08:38:01.702926Z",
     "iopub.status.busy": "2024-03-22T08:38:01.702624Z",
     "iopub.status.idle": "2024-03-22T08:38:02.694790Z",
     "shell.execute_reply": "2024-03-22T08:38:02.693890Z"
    },
    "papermill": {
     "duration": 1.006677,
     "end_time": "2024-03-22T08:38:02.697980",
     "exception": false,
     "start_time": "2024-03-22T08:38:01.691303",
     "status": "completed"
    },
    "tags": []
   },
   "outputs": [
    {
     "name": "stdout",
     "output_type": "stream",
     "text": [
      "Length of valid_dataloader: 100\n",
      ">> Size of high-res image: torch.Size([1416, 2040, 3])\n",
      ">> Size of low-res image: torch.Size([354, 510, 3])\n"
     ]
    },
    {
     "data": {
      "image/png": "[encoded data removed]",
      "text/plain": [
       "<Figure size 640x480 with 2 Axes>"
      ]
     },
     "metadata": {},
     "output_type": "display_data"
    }
   ],
   "source": [
    "print(\"Length of valid_dataloader: {}\".format(len(valid_dataloader)))\n",
    "hrs, lrs = next(iter(valid_dataloader))\n",
    "\n",
    "hr = hrs[0].permute((1, 2, 0))\n",
    "lr = lrs[0].permute((1, 2, 0))\n",
    "\n",
    "print(\">> Size of high-res image:\", hr.size())\n",
    "print(\">> Size of low-res image:\", lr.size())\n",
    "fig, axs = plt.subplots(1, 2)\n",
    "\n",
    "axs[0].imshow(hr)\n",
    "axs[0].set_title('High Resolution')\n",
    "axs[1].imshow(lr)\n",
    "axs[1].set_title('Low Resolution')\n",
    "\n",
    "for ax in axs.flat:\n",
    "    ax.axis('off')\n",
    "\n",
    "plt.show()"
   ]
  },
  {
   "cell_type": "markdown",
   "id": "d296bac8",
   "metadata": {
    "papermill": {
     "duration": 0.011539,
     "end_time": "2024-03-22T08:38:02.721392",
     "exception": false,
     "start_time": "2024-03-22T08:38:02.709853",
     "status": "completed"
    },
    "tags": []
   },
   "source": [
    "<h3>MODEL</h3>"
   ]
  },
  {
   "cell_type": "code",
   "execution_count": 7,
   "id": "34547a64",
   "metadata": {
    "execution": {
     "iopub.execute_input": "2024-03-22T08:38:02.745768Z",
     "iopub.status.busy": "2024-03-22T08:38:02.745467Z",
     "iopub.status.idle": "2024-03-22T08:38:02.751654Z",
     "shell.execute_reply": "2024-03-22T08:38:02.750791Z"
    },
    "papermill": {
     "duration": 0.020499,
     "end_time": "2024-03-22T08:38:02.753425",
     "exception": false,
     "start_time": "2024-03-22T08:38:02.732926",
     "status": "completed"
    },
    "tags": []
   },
   "outputs": [],
   "source": [
    "class ResidualBlock(nn.Module):\n",
    "    def __init__(self, in_features):\n",
    "        super(ResidualBlock, self).__init__()\n",
    "        self.conv_block = nn.Sequential(\n",
    "            nn.Conv2d(in_features, in_features, kernel_size=3, stride=1, padding=1),\n",
    "            nn.BatchNorm2d(in_features, 0.8),\n",
    "            nn.PReLU(),\n",
    "            nn.Conv2d(in_features, in_features, kernel_size=3, stride=1, padding=1),\n",
    "            nn.BatchNorm2d(in_features, 0.8),\n",
    "        )\n",
    "    \n",
    "    def forward(self, x):\n",
    "        return x + self.conv_block(x)"
   ]
  },
  {
   "cell_type": "code",
   "execution_count": 8,
   "id": "d8e5600b",
   "metadata": {
    "execution": {
     "iopub.execute_input": "2024-03-22T08:38:02.777812Z",
     "iopub.status.busy": "2024-03-22T08:38:02.777525Z",
     "iopub.status.idle": "2024-03-22T08:38:02.788061Z",
     "shell.execute_reply": "2024-03-22T08:38:02.787358Z"
    },
    "papermill": {
     "duration": 0.02514,
     "end_time": "2024-03-22T08:38:02.790053",
     "exception": false,
     "start_time": "2024-03-22T08:38:02.764913",
     "status": "completed"
    },
    "tags": []
   },
   "outputs": [],
   "source": [
    "class GeneratorResnet(nn.Module):\n",
    "    def __init__(self, in_channels=3, out_channels=3, n_residual_blocks=16):\n",
    "        super(GeneratorResnet, self).__init__()\n",
    "        #first layer\n",
    "        self.conv1 = nn.Sequential(nn.Conv2d(in_channels, 64, kernel_size=9, stride=1, padding=4), nn.PReLU())\n",
    "        \n",
    "        #Residual blocks\n",
    "        res_blocks=[]\n",
    "        for _ in range(n_residual_blocks):\n",
    "            res_blocks.append(ResidualBlock(64))\n",
    "        self.res_blocks = nn.Sequential(*res_blocks)\n",
    "        \n",
    "        #second conv layer after res blocks\n",
    "        self.conv2 = nn.Sequential(nn.Conv2d(64, 64, kernel_size=3, stride=1, padding=1), nn.BatchNorm2d(64, 0.8))\n",
    "        upsampling=[]\n",
    "        for _ in range(2):\n",
    "            upsampling+=[\n",
    "                nn.Conv2d(64, 256, kernel_size=3, stride=1, padding=1),\n",
    "                nn.BatchNorm2d(256),\n",
    "                nn.PixelShuffle(upscale_factor=2),\n",
    "                nn.PReLU(),\n",
    "            ]\n",
    "        self.upsampling = nn.Sequential(*upsampling)\n",
    "        \n",
    "        self.conv3 = nn.Conv2d(64, out_channels, kernel_size=9, stride=1, padding=4)\n",
    "        \n",
    "    def forward(self, x):\n",
    "        out1 = self.conv1(x)\n",
    "        out = self.res_blocks(out1)\n",
    "        out2 = self.conv2(out)\n",
    "        out = torch.add(out1, out2)\n",
    "        out = self.upsampling(out)\n",
    "        out = self.conv3(out)\n",
    "        return out"
   ]
  },
  {
   "cell_type": "code",
   "execution_count": 9,
   "id": "4311c5fb",
   "metadata": {
    "execution": {
     "iopub.execute_input": "2024-03-22T08:38:02.814581Z",
     "iopub.status.busy": "2024-03-22T08:38:02.814239Z",
     "iopub.status.idle": "2024-03-22T08:38:02.826058Z",
     "shell.execute_reply": "2024-03-22T08:38:02.825237Z"
    },
    "papermill": {
     "duration": 0.026351,
     "end_time": "2024-03-22T08:38:02.827924",
     "exception": false,
     "start_time": "2024-03-22T08:38:02.801573",
     "status": "completed"
    },
    "tags": []
   },
   "outputs": [],
   "source": [
    "class Discriminator(nn.Module):\n",
    "    def __init__(self, input_shape):\n",
    "        super(Discriminator, self).__init__()\n",
    "        \n",
    "        self.input_shape = input_shape\n",
    "        in_channels, in_height, in_width = self.input_shape\n",
    "        patch_h, patch_w = int(in_height / 2**4), int(in_width / 2**4)\n",
    "        self.output_shape = (1, patch_h, patch_w)\n",
    "        \n",
    "        def discriminator_block(in_filters, out_filters, first_block=False):\n",
    "            layers=[]\n",
    "            layers.append(nn.Conv2d(in_filters, out_filters, kernel_size=3, stride=1, padding=1))\n",
    "            if not first_block:\n",
    "                layers.append(nn.BatchNorm2d(out_filters))\n",
    "            layers.append(nn.LeakyReLU(0.2, inplace=True))\n",
    "            layers.append(nn.Conv2d(out_filters, out_filters, kernel_size=3, stride=2, padding=1))\n",
    "            layers.append(nn.BatchNorm2d(out_filters))\n",
    "            layers.append(nn.LeakyReLU(0.2, inplace=True))\n",
    "            return layers\n",
    "        \n",
    "        layers=[]\n",
    "        in_filters = in_channels\n",
    "        for i, out_filters in enumerate([64, 128, 256, 512]):\n",
    "            layers.extend(discriminator_block(in_filters, out_filters, first_block=(i==0)))\n",
    "            in_filters = out_filters\n",
    "        layers.append(nn.Conv2d(512, 512, kernel_size=3, stride=2, padding=1))\n",
    "        layers.append(nn.BatchNorm2d(512))\n",
    "        layers.append(nn.LeakyReLU(0.2))\n",
    "        output_layers=[nn.AdaptiveAvgPool2d(1),\n",
    "            nn.Conv2d(512, 1024, kernel_size=1),\n",
    "            nn.LeakyReLU(0.2),\n",
    "            nn.Conv2d(1024, 1, kernel_size=1)]\n",
    "        layers.extend(output_layers)\n",
    "        self.model = nn.Sequential(*layers)\n",
    "        \n",
    "    def forward(self, img):\n",
    "        batch_size = img.size(0)\n",
    "        return torch.sigmoid(self.model(img).view(batch_size))"
   ]
  },
  {
   "cell_type": "code",
   "execution_count": 10,
   "id": "87183a41",
   "metadata": {
    "execution": {
     "iopub.execute_input": "2024-03-22T08:38:02.852636Z",
     "iopub.status.busy": "2024-03-22T08:38:02.852370Z",
     "iopub.status.idle": "2024-03-22T08:38:02.864066Z",
     "shell.execute_reply": "2024-03-22T08:38:02.863389Z"
    },
    "papermill": {
     "duration": 0.025986,
     "end_time": "2024-03-22T08:38:02.865823",
     "exception": false,
     "start_time": "2024-03-22T08:38:02.839837",
     "status": "completed"
    },
    "tags": []
   },
   "outputs": [],
   "source": [
    "class GeneratorLoss(nn.Module):\n",
    "    def __init__(self):\n",
    "        super(GeneratorLoss, self).__init__()\n",
    "        vgg = vgg19(pretrained=True)\n",
    "        loss_network = nn.Sequential(*list(vgg.features)[:31]).eval()\n",
    "        for param in loss_network.parameters():\n",
    "            param.requires_grad=False\n",
    "        self.loss_network = loss_network\n",
    "        self.mse_loss = nn.MSELoss()\n",
    "        self.tv_loss = TVLoss()\n",
    "        \n",
    "    def forward(self, out_labels, out_img, target_img):\n",
    "        #adversarial loss\n",
    "        adversarial_loss = torch.mean(1-out_labels)\n",
    "        #perception loss\n",
    "        perception_loss = self.mse_loss(self.loss_network(out_img), self.loss_network(target_img))\n",
    "        #image loss\n",
    "        image_loss = self.mse_loss(out_img, target_img)\n",
    "        #tv loss\n",
    "        tv_loss = self.tv_loss(out_img)\n",
    "        return image_loss + 0.001*adversarial_loss + 0.006*perception_loss + 2e-8*tv_loss\n",
    "    \n",
    "class TVLoss(nn.Module):\n",
    "    def __init__(self, tv_loss_weight=1):\n",
    "        super(TVLoss, self).__init__()\n",
    "        self.tv_loss_weight = tv_loss_weight\n",
    "        \n",
    "    def forward(self, img):\n",
    "        batch_size = img.size()[0]\n",
    "        h = img.size()[2]\n",
    "        w = img.size()[3]\n",
    "        count_h = self.tensor_size(img[:,:,1:,:])\n",
    "        count_w = self.tensor_size(img[:,:,:,1:])\n",
    "        h_tv = torch.pow(img[:,:,1:,:] - img[:,:,:h-1,:], 2).sum()\n",
    "        w_tv = torch.pow(img[:,:,:,1:] - img[:,:,:,:w-1], 2).sum()\n",
    "        return self.tv_loss_weight * 2 * (h_tv/count_h + w_tv/count_w)/batch_size\n",
    "        \n",
    "    def tensor_size(self, x):\n",
    "        return x.size()[1]*x.size()[2]*x.size()[3]"
   ]
  },
  {
   "cell_type": "markdown",
   "id": "459736c0",
   "metadata": {
    "papermill": {
     "duration": 0.011533,
     "end_time": "2024-03-22T08:38:02.888907",
     "exception": false,
     "start_time": "2024-03-22T08:38:02.877374",
     "status": "completed"
    },
    "tags": []
   },
   "source": [
    "<h3>TRAINING</h3>"
   ]
  },
  {
   "cell_type": "code",
   "execution_count": 11,
   "id": "d08c5a81",
   "metadata": {
    "execution": {
     "iopub.execute_input": "2024-03-22T08:38:02.912924Z",
     "iopub.status.busy": "2024-03-22T08:38:02.912655Z",
     "iopub.status.idle": "2024-03-22T08:38:02.966905Z",
     "shell.execute_reply": "2024-03-22T08:38:02.966063Z"
    },
    "papermill": {
     "duration": 0.068429,
     "end_time": "2024-03-22T08:38:02.968800",
     "exception": false,
     "start_time": "2024-03-22T08:38:02.900371",
     "status": "completed"
    },
    "tags": []
   },
   "outputs": [],
   "source": [
    "#settings\n",
    "N_EPOCHS = 40\n",
    "BATCH_SIZE = 16\n",
    "G_LR = 0.001\n",
    "D_LR = 1e-5\n",
    "b1 = 0.9\n",
    "b2 = 0.999\n",
    "BETAS = (b1, b2)\n",
    "STEP_SIZE=10\n",
    "EPS = 1e-08\n",
    "GAMMA = 0.67\n",
    "CHANNELS = 3\n",
    "hr_img_shape = (256,256)\n",
    "DEVICE = torch.device('cuda' if torch.cuda.is_available() else 'cpu')"
   ]
  },
  {
   "cell_type": "code",
   "execution_count": 12,
   "id": "105b1986",
   "metadata": {
    "execution": {
     "iopub.execute_input": "2024-03-22T08:38:02.993678Z",
     "iopub.status.busy": "2024-03-22T08:38:02.993392Z",
     "iopub.status.idle": "2024-03-22T08:38:02.999204Z",
     "shell.execute_reply": "2024-03-22T08:38:02.998370Z"
    },
    "papermill": {
     "duration": 0.020357,
     "end_time": "2024-03-22T08:38:03.001101",
     "exception": false,
     "start_time": "2024-03-22T08:38:02.980744",
     "status": "completed"
    },
    "tags": []
   },
   "outputs": [
    {
     "data": {
      "text/plain": [
       "device(type='cuda')"
      ]
     },
     "execution_count": 12,
     "metadata": {},
     "output_type": "execute_result"
    }
   ],
   "source": [
    "DEVICE"
   ]
  },
  {
   "cell_type": "code",
   "execution_count": 13,
   "id": "5484def3",
   "metadata": {
    "execution": {
     "iopub.execute_input": "2024-03-22T08:38:03.025948Z",
     "iopub.status.busy": "2024-03-22T08:38:03.025674Z",
     "iopub.status.idle": "2024-03-22T08:38:03.063867Z",
     "shell.execute_reply": "2024-03-22T08:38:03.063147Z"
    },
    "papermill": {
     "duration": 0.052816,
     "end_time": "2024-03-22T08:38:03.065667",
     "exception": false,
     "start_time": "2024-03-22T08:38:03.012851",
     "status": "completed"
    },
    "tags": []
   },
   "outputs": [],
   "source": [
    "class Network:\n",
    "    def __init__(self, for_inference=False, train_dataloader=train_dataloader, valid_dataloader=valid_dataloader,\n",
    "                 g_lr=G_LR, d_lr = D_LR, betas = BETAS, step_size = STEP_SIZE, device = DEVICE,\n",
    "                 num_epochs = N_EPOCHS,eps = EPS, gamma = GAMMA, run_id=None):\n",
    "        self.for_inference = for_inference\n",
    "        self.generator = GeneratorResnet().to(device)\n",
    "        self.discriminator = Discriminator(input_shape = (CHANNELS,*hr_img_shape)).to(device)\n",
    "        self.device = device\n",
    "        if not self.for_inference:\n",
    "            self.generator_loss = GeneratorLoss().to(device)\n",
    "            self.optimizer_G = torch.optim.Adam(self.generator.parameters(), lr=g_lr, betas=BETAS, eps=eps)\n",
    "            self.optimizer_D = torch.optim.Adam(self.discriminator.parameters(), lr=d_lr, betas=BETAS, eps=eps)\n",
    "            self.scheduler_G =  torch.optim.lr_scheduler.StepLR(self.optimizer_G, step_size=step_size, gamma=gamma)\n",
    "            self.scheduler_D =  torch.optim.lr_scheduler.StepLR(self.optimizer_D, step_size=step_size, gamma=gamma)\n",
    "            self.train_dataloader = train_dataloader\n",
    "            self.valid_dataloader = valid_dataloader\n",
    "            self.num_epochs = num_epochs\n",
    "\n",
    "            self.run_id = run_id\n",
    "    \n",
    "    def save_network(self, epoch, G_train_loss, G_valid_loss, D_train_loss, D_valid_loss, checkpoint_path):\n",
    "        checkpoint = {\n",
    "            'epoch': epoch,\n",
    "            'G_train_loss': G_train_loss,\n",
    "            'G_valid_loss': G_valid_loss,\n",
    "            'D_train_loss': D_train_loss,\n",
    "            'D_valid_loss': D_valid_loss,\n",
    "            'generator': self.generator.state_dict(),\n",
    "            'discriminator': self.discriminator.state_dict(),\n",
    "            'G_optimizer': self.optimizer_G.state_dict(),\n",
    "            'D_optimizer': self.optimizer_D.state_dict(),\n",
    "            'G_lr_scheduler': self.scheduler_G.state_dict(),\n",
    "            'D_lr_scheduler': self.scheduler_D.state_dict(),\n",
    "            'network': self\n",
    "        }\n",
    "        torch.save(checkpoint, checkpoint_path)\n",
    "    \n",
    "    def load_network(self, checkpoint_path):\n",
    "        checkpoint = torch.load(checkpoint_path)\n",
    "        self.generator.load_state_dict(checkpoint['generator'])\n",
    "        if not self.for_inference:\n",
    "            self.optimizer_G.load_state_dict(checkpoint['G_optimizer'])\n",
    "            self.scheduler_G.load_state_dict(checkpoint['G_lr_scheduler'])\n",
    "            self.optimizer_D.load_state_dict(checkpoint['D_optimizer'])\n",
    "            self.scheduler_D.load_state_dict(checkpoint['D_lr_scheduler'])\n",
    "            self.train_dataloader = train_dataloader\n",
    "            self.valid_dataloader = valid_dataloader\n",
    "        return checkpoint['epoch'], checkpoint['G_train_loss'], checkpoint['G_valid_loss'], checkpoint['D_train_loss'], checkpoint['D_valid_loss']\n",
    "    \n",
    "    def train_step(self, lr_img, hr_img):\n",
    "        lr_img, hr_img = lr_img.to(self.device), hr_img.to(self.device)\n",
    "        \n",
    "        #-----------------\n",
    "        # train generator\n",
    "        #-----------------\n",
    "        \n",
    "        self.generator.train()\n",
    "        self.optimizer_G.zero_grad()\n",
    "        #generate hr img\n",
    "        gen_hr = self.generator(lr_img).to(self.device)\n",
    "        fake_out = self.discriminator(gen_hr).mean()\n",
    "        loss_G = self.generator_loss(fake_out, gen_hr, hr_img)\n",
    "\n",
    "        loss_G.backward()\n",
    "        self.optimizer_G.step()\n",
    "        \n",
    "        #-----------------------------\n",
    "        # train discriminator\n",
    "        #-----------------------------\n",
    "        self.discriminator.train()\n",
    "        self.optimizer_D.zero_grad()\n",
    "        \n",
    "        real_out = self.discriminator(hr_img).mean()\n",
    "        fake_out = self.discriminator(self.generator(lr_img)).mean()\n",
    "        loss_D = 1 - real_out + fake_out\n",
    "        loss_D.backward()\n",
    "        self.optimizer_D.step()\n",
    "        del gen_hr, lr_img, hr_img, real_out, fake_out\n",
    "        gc.collect()\n",
    "        torch.cuda.empty_cache()\n",
    "        return loss_G.item(), loss_D.item()\n",
    "    \n",
    "    def valid_step(self, lr_img, hr_img):\n",
    "        lr_img, hr_img = lr_img.to(self.device), hr_img.to(self.device)\n",
    "        gen_hr = self.generator(lr_img).to(self.device)\n",
    "        #loss of generator\n",
    "        fake_out = self.discriminator(gen_hr).mean()\n",
    "        loss_G = self.generator_loss(fake_out, gen_hr, hr_img)\n",
    "        \n",
    "        #loss of discriminator\n",
    "        real_out = self.discriminator(hr_img).mean()\n",
    "        fake_out = self.discriminator(gen_hr).mean()\n",
    "        loss_D = 1 - real_out + fake_out\n",
    "        \n",
    "        del lr_img, hr_img, gen_hr, fake_out, real_out\n",
    "        gc.collect()\n",
    "        torch.cuda.empty_cache()\n",
    "        \n",
    "        return loss_G.item(), loss_D.item()\n",
    "    \n",
    "    def train_GAN(self):\n",
    "        last_valid_loss = float('inf')\n",
    "        wandb.init(project='SRGAN ver2',\n",
    "                  resume='allow',\n",
    "                  config={\n",
    "                      'generator_lr':G_LR,\n",
    "                      'discriminator_lr': D_LR,\n",
    "                      'num_epochs':N_EPOCHS\n",
    "                  },\n",
    "                  id = self.run_id)\n",
    "        wandb.watch(self.generator)\n",
    "        for epoch in range(self.num_epochs):\n",
    "            start = time.time()\n",
    "            \n",
    "            #---------TRAIN------------\n",
    "            G_train_epoch_loss = 0\n",
    "            D_train_epoch_loss = 0\n",
    "            for hr_img, lr_img in tqdm(self.train_dataloader, desc=f'Epoch {epoch+1}/{self.num_epochs}'):\n",
    "                G_loss, D_loss = self.train_step(lr_img, hr_img)\n",
    "                G_train_epoch_loss += G_loss\n",
    "                D_train_epoch_loss += D_loss\n",
    "            \n",
    "            G_train_epoch_loss /= len(self.train_dataloader)\n",
    "            D_train_epoch_loss /= len(self.train_dataloader)\n",
    "            end = time.time()\n",
    "            \n",
    "            #---------VALID-----------\n",
    "            self.generator.eval()\n",
    "            self.discriminator.eval()\n",
    "            with torch.no_grad():\n",
    "                G_valid_epoch_loss = 0\n",
    "                D_valid_epoch_loss = 0\n",
    "                for hr_img, lr_img in tqdm(self.valid_dataloader, desc=f'Epoch {epoch+1}/{self.num_epochs}'):\n",
    "                    G_loss, D_loss = self.valid_step(lr_img, hr_img)\n",
    "                    G_valid_epoch_loss+=G_loss\n",
    "                    D_valid_epoch_loss+=D_loss\n",
    "                \n",
    "                G_valid_epoch_loss /= len(self.valid_dataloader)\n",
    "                D_valid_epoch_loss /= len(self.valid_dataloader)\n",
    "                \n",
    "            #------------LOG----------------\n",
    "            wandb.log({\n",
    "                'G_train_loss': G_train_epoch_loss,\n",
    "                'G_valid_loss': G_valid_epoch_loss,\n",
    "                'G_lr': self.optimizer_G.param_groups[0]['lr'],\n",
    "                'D_train_loss': D_train_epoch_loss,\n",
    "                'D_valid_loss': D_valid_epoch_loss,\n",
    "                'D_lr': self.optimizer_D.param_groups[0]['lr']\n",
    "            })\n",
    "            self.scheduler_G.step()\n",
    "            self.scheduler_D.step()\n",
    "            \n",
    "            #---------------VERBOSE-------------\n",
    "            print(f'Epoch {epoch+1}/{self.num_epochs} | Generator train Loss: {G_train_epoch_loss:.4f} | Generator valid Loss: {G_valid_epoch_loss:.4f}')\n",
    "            print(f'                                  | Discriminator train Loss: {D_train_epoch_loss:.4f} | Discriminator valid Loss: {D_valid_epoch_loss:.4f} | Time: {end-start:.2f}s')\n",
    "            #-------------CHECKPOINT------------\n",
    "            self.save_network(epoch, G_train_epoch_loss, G_valid_epoch_loss, D_train_epoch_loss, D_valid_epoch_loss, 'model_checkpoint_latest.pth')\n",
    "            if G_valid_epoch_loss < last_valid_loss:\n",
    "                last_valid_loss = G_valid_epoch_loss\n",
    "                self.save_network(epoch, G_train_epoch_loss, G_valid_epoch_loss, D_train_epoch_loss, D_valid_epoch_loss, 'model_checkpoint_best.pth')\n",
    "                print(\"New best checkpoint saved!\")\n",
    "        \n",
    "        wandb.finish()\n",
    "    def inference(self, lr_image, hr_image=None):\n",
    "        lr_image = lr_image.unsqueeze(0).to(self.device)\n",
    "        with torch.no_grad():\n",
    "            sr_image = self.generator(lr_image)\n",
    "        \n",
    "        lr_image = lr_image.squeeze(0)\n",
    "        sr_image = sr_image.squeeze(0)\n",
    "        \n",
    "        print(\">> Size of low-res image:\", lr_image.size())\n",
    "        print(\">> Size of super-res image:\", sr_image.size())\n",
    "        if hr_image != None:\n",
    "            print(\">> Size of high-res image:\", hr_image.size())\n",
    "        \n",
    "        if hr_image != None:\n",
    "            fig, axes = plt.subplots(1, 3, figsize=(10, 6))\n",
    "            axes[0].imshow(lr_image.cpu().detach().permute((1, 2, 0)))\n",
    "            axes[0].set_title('Low Resolution')\n",
    "            axes[1].imshow(sr_image.cpu().detach().permute((1, 2, 0)))\n",
    "            axes[1].set_title('Super Resolution')\n",
    "            axes[2].imshow(hr_image.cpu().detach().permute((1, 2, 0)))\n",
    "            axes[2].set_title('High Resolution')\n",
    "            for ax in axes.flat:\n",
    "                ax.axis('off')\n",
    "        else:\n",
    "            fig, axes = plt.subplots(1, 2, figsize=(10, 6))\n",
    "            axes[0].imshow(lr_image.cpu().detach().permute((1, 2, 0)))\n",
    "            axes[0].set_title('Low Resolution')\n",
    "            axes[1].imshow(sr_image.cpu().detach().permute((1, 2, 0)))\n",
    "            axes[1].set_title('Super Resolution')\n",
    "            for ax in axes.flat:\n",
    "                ax.axis('off')\n",
    "        \n",
    "        plt.tight_layout()        \n",
    "        plt.show()\n",
    "        \n",
    "        return sr_image \n",
    "        \n",
    "    def train_model_continue(self, checkpoint_path):\n",
    "        \n",
    "        start_epoch, G_train_loss, G_valid_loss, D_train_loss, D_valid_loss = self.load_network(checkpoint_path)\n",
    "        print(\"Generator previous train loss: \", G_train_loss)\n",
    "        print(\"Generator previous valid loss: \", G_valid_loss)\n",
    "        print(\"Discriminator previous train loss: \", D_train_loss)\n",
    "        print(\"Discriminator previous valid loss: \", D_valid_loss)\n",
    "        print()\n",
    "        print(\"------------------- Resuming training -------------------\")\n",
    "        self.num_epochs -= start_epoch\n",
    "        self.train_GAN()"
   ]
  },
  {
   "cell_type": "code",
   "execution_count": 14,
   "id": "9edbacd2",
   "metadata": {
    "execution": {
     "iopub.execute_input": "2024-03-22T08:38:03.090580Z",
     "iopub.status.busy": "2024-03-22T08:38:03.090294Z",
     "iopub.status.idle": "2024-03-22T08:38:03.094139Z",
     "shell.execute_reply": "2024-03-22T08:38:03.093226Z"
    },
    "papermill": {
     "duration": 0.018605,
     "end_time": "2024-03-22T08:38:03.096291",
     "exception": false,
     "start_time": "2024-03-22T08:38:03.077686",
     "status": "completed"
    },
    "tags": []
   },
   "outputs": [],
   "source": [
    "#srgan = Network(run_id='srgan_cvprj_7')\n",
    "#num_params = sum(p.numel() for p in srgan.generator.parameters() if p.requires_grad) + sum(p.numel() for p in srgan.discriminator.parameters() if p.requires_grad)\n",
    "#print('Number of learnable params: ',num_params)\n"
   ]
  },
  {
   "cell_type": "code",
   "execution_count": 15,
   "id": "9c462372",
   "metadata": {
    "execution": {
     "iopub.execute_input": "2024-03-22T08:38:03.121170Z",
     "iopub.status.busy": "2024-03-22T08:38:03.120910Z",
     "iopub.status.idle": "2024-03-22T13:32:58.120993Z",
     "shell.execute_reply": "2024-03-22T13:32:58.120248Z"
    },
    "papermill": {
     "duration": 17695.014755,
     "end_time": "2024-03-22T13:32:58.123104",
     "exception": false,
     "start_time": "2024-03-22T08:38:03.108349",
     "status": "completed"
    },
    "tags": []
   },
   "outputs": [
    {
     "name": "stderr",
     "output_type": "stream",
     "text": [
      "\u001b[34m\u001b[1mwandb\u001b[0m: W&B API key is configured. Use \u001b[1m`wandb login --relogin`\u001b[0m to force relogin\n",
      "\u001b[34m\u001b[1mwandb\u001b[0m: \u001b[33mWARNING\u001b[0m If you're specifying your api key in code, ensure this code is not shared publicly.\n",
      "\u001b[34m\u001b[1mwandb\u001b[0m: \u001b[33mWARNING\u001b[0m Consider setting the WANDB_API_KEY environment variable, or running `wandb login` from the command line.\n",
      "\u001b[34m\u001b[1mwandb\u001b[0m: Appending key for api.wandb.ai to your netrc file: /root/.netrc\n",
      "\u001b[34m\u001b[1mwandb\u001b[0m: Currently logged in as: \u001b[33mphamquangtung0606\u001b[0m. Use \u001b[1m`wandb login --relogin`\u001b[0m to force relogin\n",
      "\u001b[34m\u001b[1mwandb\u001b[0m: wandb version 0.16.4 is available!  To upgrade, please run:\n",
      "\u001b[34m\u001b[1mwandb\u001b[0m:  $ pip install wandb --upgrade\n",
      "\u001b[34m\u001b[1mwandb\u001b[0m: Tracking run with wandb version 0.16.0\n",
      "\u001b[34m\u001b[1mwandb\u001b[0m: Run data is saved locally in \u001b[35m\u001b[1m/kaggle/working/wandb/run-20240322_083806-srgan_cvprj_7\u001b[0m\n",
      "\u001b[34m\u001b[1mwandb\u001b[0m: Run \u001b[1m`wandb offline`\u001b[0m to turn off syncing.\n",
      "\u001b[34m\u001b[1mwandb\u001b[0m: Resuming run \u001b[33msrgan_cvprj_7\u001b[0m\n",
      "\u001b[34m\u001b[1mwandb\u001b[0m: ⭐️ View project at \u001b[34m\u001b[4mhttps://wandb.ai/phamquangtung0606/SRGAN%20ver2\u001b[0m\n",
      "\u001b[34m\u001b[1mwandb\u001b[0m: 🚀 View run at \u001b[34m\u001b[4mhttps://wandb.ai/phamquangtung0606/SRGAN%20ver2/runs/srgan_cvprj_7\u001b[0m\n",
      "Epoch 1/25: 100%|██████████| 216/216 [17:47<00:00,  4.94s/it]\n",
      "Epoch 1/25: 100%|██████████| 100/100 [01:50<00:00,  1.11s/it]\n"
     ]
    },
    {
     "name": "stdout",
     "output_type": "stream",
     "text": [
      "Epoch 1/25 | Generator train Loss: 0.0135 | Generator valid Loss: 0.0181\n",
      "                                  | Discriminator train Loss: 0.0008 | Discriminator valid Loss: 1.2184 | Time: 1067.42s\n",
      "New best checkpoint saved!\n"
     ]
    },
    {
     "name": "stderr",
     "output_type": "stream",
     "text": [
      "Epoch 2/25: 100%|██████████| 216/216 [09:39<00:00,  2.68s/it]\n",
      "Epoch 2/25: 100%|██████████| 100/100 [01:44<00:00,  1.04s/it]\n"
     ]
    },
    {
     "name": "stdout",
     "output_type": "stream",
     "text": [
      "Epoch 2/25 | Generator train Loss: 0.0134 | Generator valid Loss: 0.0200\n",
      "                                  | Discriminator train Loss: 0.0006 | Discriminator valid Loss: 1.1946 | Time: 579.65s\n"
     ]
    },
    {
     "name": "stderr",
     "output_type": "stream",
     "text": [
      "Epoch 3/25: 100%|██████████| 216/216 [09:41<00:00,  2.69s/it]\n",
      "Epoch 3/25: 100%|██████████| 100/100 [01:45<00:00,  1.06s/it]\n"
     ]
    },
    {
     "name": "stdout",
     "output_type": "stream",
     "text": [
      "Epoch 3/25 | Generator train Loss: 0.0134 | Generator valid Loss: 0.0156\n",
      "                                  | Discriminator train Loss: 0.0005 | Discriminator valid Loss: 1.1598 | Time: 581.08s\n",
      "New best checkpoint saved!\n"
     ]
    },
    {
     "name": "stderr",
     "output_type": "stream",
     "text": [
      "Epoch 4/25: 100%|██████████| 216/216 [09:44<00:00,  2.71s/it]\n",
      "Epoch 4/25: 100%|██████████| 100/100 [01:44<00:00,  1.04s/it]\n"
     ]
    },
    {
     "name": "stdout",
     "output_type": "stream",
     "text": [
      "Epoch 4/25 | Generator train Loss: 0.0134 | Generator valid Loss: 0.0166\n",
      "                                  | Discriminator train Loss: 0.0004 | Discriminator valid Loss: 1.1621 | Time: 584.56s\n"
     ]
    },
    {
     "name": "stderr",
     "output_type": "stream",
     "text": [
      "Epoch 5/25: 100%|██████████| 216/216 [09:46<00:00,  2.72s/it]\n",
      "Epoch 5/25: 100%|██████████| 100/100 [01:45<00:00,  1.05s/it]\n"
     ]
    },
    {
     "name": "stdout",
     "output_type": "stream",
     "text": [
      "Epoch 5/25 | Generator train Loss: 0.0134 | Generator valid Loss: 0.0196\n",
      "                                  | Discriminator train Loss: 0.0003 | Discriminator valid Loss: 1.1444 | Time: 586.87s\n"
     ]
    },
    {
     "name": "stderr",
     "output_type": "stream",
     "text": [
      "Epoch 6/25: 100%|██████████| 216/216 [09:43<00:00,  2.70s/it]\n",
      "Epoch 6/25: 100%|██████████| 100/100 [01:44<00:00,  1.05s/it]\n"
     ]
    },
    {
     "name": "stdout",
     "output_type": "stream",
     "text": [
      "Epoch 6/25 | Generator train Loss: 0.0134 | Generator valid Loss: 0.0178\n",
      "                                  | Discriminator train Loss: 0.0003 | Discriminator valid Loss: 1.1135 | Time: 583.76s\n"
     ]
    },
    {
     "name": "stderr",
     "output_type": "stream",
     "text": [
      "Epoch 7/25: 100%|██████████| 216/216 [09:44<00:00,  2.71s/it]\n",
      "Epoch 7/25: 100%|██████████| 100/100 [01:45<00:00,  1.05s/it]\n"
     ]
    },
    {
     "name": "stdout",
     "output_type": "stream",
     "text": [
      "Epoch 7/25 | Generator train Loss: 0.0134 | Generator valid Loss: 0.0199\n",
      "                                  | Discriminator train Loss: 0.0002 | Discriminator valid Loss: 1.1378 | Time: 584.69s\n"
     ]
    },
    {
     "name": "stderr",
     "output_type": "stream",
     "text": [
      "Epoch 8/25: 100%|██████████| 216/216 [09:41<00:00,  2.69s/it]\n",
      "Epoch 8/25: 100%|██████████| 100/100 [01:44<00:00,  1.05s/it]\n"
     ]
    },
    {
     "name": "stdout",
     "output_type": "stream",
     "text": [
      "Epoch 8/25 | Generator train Loss: 0.0133 | Generator valid Loss: 0.0265\n",
      "                                  | Discriminator train Loss: 0.0002 | Discriminator valid Loss: 1.1232 | Time: 581.41s\n"
     ]
    },
    {
     "name": "stderr",
     "output_type": "stream",
     "text": [
      "Epoch 9/25: 100%|██████████| 216/216 [09:40<00:00,  2.69s/it]\n",
      "Epoch 9/25: 100%|██████████| 100/100 [01:44<00:00,  1.05s/it]\n"
     ]
    },
    {
     "name": "stdout",
     "output_type": "stream",
     "text": [
      "Epoch 9/25 | Generator train Loss: 0.0133 | Generator valid Loss: 0.0236\n",
      "                                  | Discriminator train Loss: 0.0002 | Discriminator valid Loss: 1.1369 | Time: 580.88s\n"
     ]
    },
    {
     "name": "stderr",
     "output_type": "stream",
     "text": [
      "Epoch 10/25: 100%|██████████| 216/216 [09:41<00:00,  2.69s/it]\n",
      "Epoch 10/25: 100%|██████████| 100/100 [01:44<00:00,  1.04s/it]\n"
     ]
    },
    {
     "name": "stdout",
     "output_type": "stream",
     "text": [
      "Epoch 10/25 | Generator train Loss: 0.0133 | Generator valid Loss: 0.0274\n",
      "                                  | Discriminator train Loss: 0.0001 | Discriminator valid Loss: 1.1355 | Time: 581.55s\n"
     ]
    },
    {
     "name": "stderr",
     "output_type": "stream",
     "text": [
      "Epoch 11/25: 100%|██████████| 216/216 [09:39<00:00,  2.68s/it]\n",
      "Epoch 11/25: 100%|██████████| 100/100 [01:44<00:00,  1.05s/it]\n"
     ]
    },
    {
     "name": "stdout",
     "output_type": "stream",
     "text": [
      "Epoch 11/25 | Generator train Loss: 0.0132 | Generator valid Loss: 0.0171\n",
      "                                  | Discriminator train Loss: 0.0002 | Discriminator valid Loss: 1.1697 | Time: 579.67s\n"
     ]
    },
    {
     "name": "stderr",
     "output_type": "stream",
     "text": [
      "Epoch 12/25: 100%|██████████| 216/216 [09:38<00:00,  2.68s/it]\n",
      "Epoch 12/25: 100%|██████████| 100/100 [01:43<00:00,  1.04s/it]\n"
     ]
    },
    {
     "name": "stdout",
     "output_type": "stream",
     "text": [
      "Epoch 12/25 | Generator train Loss: 0.0132 | Generator valid Loss: 0.0163\n",
      "                                  | Discriminator train Loss: 0.0002 | Discriminator valid Loss: 1.1458 | Time: 578.96s\n"
     ]
    },
    {
     "name": "stderr",
     "output_type": "stream",
     "text": [
      "Epoch 13/25: 100%|██████████| 216/216 [09:37<00:00,  2.67s/it]\n",
      "Epoch 13/25: 100%|██████████| 100/100 [01:44<00:00,  1.05s/it]\n"
     ]
    },
    {
     "name": "stdout",
     "output_type": "stream",
     "text": [
      "Epoch 13/25 | Generator train Loss: 0.0132 | Generator valid Loss: 0.0162\n",
      "                                  | Discriminator train Loss: 0.0002 | Discriminator valid Loss: 1.1523 | Time: 577.71s\n"
     ]
    },
    {
     "name": "stderr",
     "output_type": "stream",
     "text": [
      "Epoch 14/25: 100%|██████████| 216/216 [09:38<00:00,  2.68s/it]\n",
      "Epoch 14/25: 100%|██████████| 100/100 [01:44<00:00,  1.04s/it]\n"
     ]
    },
    {
     "name": "stdout",
     "output_type": "stream",
     "text": [
      "Epoch 14/25 | Generator train Loss: 0.0132 | Generator valid Loss: 0.0168\n",
      "                                  | Discriminator train Loss: 0.0002 | Discriminator valid Loss: 1.1501 | Time: 578.48s\n"
     ]
    },
    {
     "name": "stderr",
     "output_type": "stream",
     "text": [
      "Epoch 15/25: 100%|██████████| 216/216 [09:37<00:00,  2.67s/it]\n",
      "Epoch 15/25: 100%|██████████| 100/100 [01:44<00:00,  1.05s/it]\n"
     ]
    },
    {
     "name": "stdout",
     "output_type": "stream",
     "text": [
      "Epoch 15/25 | Generator train Loss: 0.0132 | Generator valid Loss: 0.0160\n",
      "                                  | Discriminator train Loss: 0.0002 | Discriminator valid Loss: 1.1429 | Time: 577.28s\n"
     ]
    },
    {
     "name": "stderr",
     "output_type": "stream",
     "text": [
      "Epoch 16/25: 100%|██████████| 216/216 [09:39<00:00,  2.68s/it]\n",
      "Epoch 16/25: 100%|██████████| 100/100 [01:44<00:00,  1.05s/it]\n"
     ]
    },
    {
     "name": "stdout",
     "output_type": "stream",
     "text": [
      "Epoch 16/25 | Generator train Loss: 0.0132 | Generator valid Loss: 0.0176\n",
      "                                  | Discriminator train Loss: 0.0001 | Discriminator valid Loss: 1.1294 | Time: 579.38s\n"
     ]
    },
    {
     "name": "stderr",
     "output_type": "stream",
     "text": [
      "Epoch 17/25: 100%|██████████| 216/216 [09:39<00:00,  2.68s/it]\n",
      "Epoch 17/25: 100%|██████████| 100/100 [01:44<00:00,  1.05s/it]\n"
     ]
    },
    {
     "name": "stdout",
     "output_type": "stream",
     "text": [
      "Epoch 17/25 | Generator train Loss: 0.0132 | Generator valid Loss: 0.0171\n",
      "                                  | Discriminator train Loss: 0.0001 | Discriminator valid Loss: 1.1475 | Time: 579.58s\n"
     ]
    },
    {
     "name": "stderr",
     "output_type": "stream",
     "text": [
      "Epoch 18/25: 100%|██████████| 216/216 [09:40<00:00,  2.69s/it]\n",
      "Epoch 18/25: 100%|██████████| 100/100 [01:44<00:00,  1.04s/it]\n"
     ]
    },
    {
     "name": "stdout",
     "output_type": "stream",
     "text": [
      "Epoch 18/25 | Generator train Loss: 0.0132 | Generator valid Loss: 0.0166\n",
      "                                  | Discriminator train Loss: 0.0001 | Discriminator valid Loss: 1.1462 | Time: 581.00s\n"
     ]
    },
    {
     "name": "stderr",
     "output_type": "stream",
     "text": [
      "Epoch 19/25: 100%|██████████| 216/216 [09:44<00:00,  2.70s/it]\n",
      "Epoch 19/25: 100%|██████████| 100/100 [01:44<00:00,  1.05s/it]\n"
     ]
    },
    {
     "name": "stdout",
     "output_type": "stream",
     "text": [
      "Epoch 19/25 | Generator train Loss: 0.0132 | Generator valid Loss: 0.0172\n",
      "                                  | Discriminator train Loss: 0.0001 | Discriminator valid Loss: 1.1465 | Time: 584.27s\n"
     ]
    },
    {
     "name": "stderr",
     "output_type": "stream",
     "text": [
      "Epoch 20/25: 100%|██████████| 216/216 [09:47<00:00,  2.72s/it]\n",
      "Epoch 20/25: 100%|██████████| 100/100 [01:44<00:00,  1.04s/it]\n"
     ]
    },
    {
     "name": "stdout",
     "output_type": "stream",
     "text": [
      "Epoch 20/25 | Generator train Loss: 0.0132 | Generator valid Loss: 0.0158\n",
      "                                  | Discriminator train Loss: 0.0001 | Discriminator valid Loss: 1.1373 | Time: 587.01s\n"
     ]
    },
    {
     "name": "stderr",
     "output_type": "stream",
     "text": [
      "Epoch 21/25: 100%|██████████| 216/216 [09:50<00:00,  2.73s/it]\n",
      "Epoch 21/25: 100%|██████████| 100/100 [01:44<00:00,  1.05s/it]\n"
     ]
    },
    {
     "name": "stdout",
     "output_type": "stream",
     "text": [
      "Epoch 21/25 | Generator train Loss: 0.0132 | Generator valid Loss: 0.0157\n",
      "                                  | Discriminator train Loss: 0.0001 | Discriminator valid Loss: 1.1265 | Time: 590.25s\n"
     ]
    },
    {
     "name": "stderr",
     "output_type": "stream",
     "text": [
      "Epoch 22/25: 100%|██████████| 216/216 [09:44<00:00,  2.71s/it]\n",
      "Epoch 22/25: 100%|██████████| 100/100 [01:44<00:00,  1.05s/it]\n"
     ]
    },
    {
     "name": "stdout",
     "output_type": "stream",
     "text": [
      "Epoch 22/25 | Generator train Loss: 0.0132 | Generator valid Loss: 0.0158\n",
      "                                  | Discriminator train Loss: 0.0001 | Discriminator valid Loss: 1.1295 | Time: 584.61s\n"
     ]
    },
    {
     "name": "stderr",
     "output_type": "stream",
     "text": [
      "Epoch 23/25: 100%|██████████| 216/216 [09:46<00:00,  2.71s/it]\n",
      "Epoch 23/25: 100%|██████████| 100/100 [01:44<00:00,  1.05s/it]\n"
     ]
    },
    {
     "name": "stdout",
     "output_type": "stream",
     "text": [
      "Epoch 23/25 | Generator train Loss: 0.0132 | Generator valid Loss: 0.0157\n",
      "                                  | Discriminator train Loss: 0.0001 | Discriminator valid Loss: 1.1260 | Time: 586.39s\n"
     ]
    },
    {
     "name": "stderr",
     "output_type": "stream",
     "text": [
      "Epoch 24/25: 100%|██████████| 216/216 [09:46<00:00,  2.72s/it]\n",
      "Epoch 24/25: 100%|██████████| 100/100 [01:43<00:00,  1.04s/it]\n"
     ]
    },
    {
     "name": "stdout",
     "output_type": "stream",
     "text": [
      "Epoch 24/25 | Generator train Loss: 0.0132 | Generator valid Loss: 0.0158\n",
      "                                  | Discriminator train Loss: 0.0001 | Discriminator valid Loss: 1.1235 | Time: 586.71s\n"
     ]
    },
    {
     "name": "stderr",
     "output_type": "stream",
     "text": [
      "Epoch 25/25: 100%|██████████| 216/216 [09:48<00:00,  2.72s/it]\n",
      "Epoch 25/25: 100%|██████████| 100/100 [01:44<00:00,  1.05s/it]\n"
     ]
    },
    {
     "name": "stdout",
     "output_type": "stream",
     "text": [
      "Epoch 25/25 | Generator train Loss: 0.0132 | Generator valid Loss: 0.0159\n",
      "                                  | Discriminator train Loss: 0.0001 | Discriminator valid Loss: 1.1280 | Time: 588.26s\n"
     ]
    },
    {
     "name": "stderr",
     "output_type": "stream",
     "text": [
      "wandb: WARNING No requirements.txt found, not creating job artifact. See https://docs.wandb.ai/guides/launch/create-job\n",
      "\u001b[34m\u001b[1mwandb\u001b[0m:                                                                                \n",
      "\u001b[34m\u001b[1mwandb\u001b[0m: \n",
      "\u001b[34m\u001b[1mwandb\u001b[0m: Run history:\n",
      "\u001b[34m\u001b[1mwandb\u001b[0m:         D_lr ██████████▂▂▂▂▂▂▂▂▂▂▁▁▁▁▁\n",
      "\u001b[34m\u001b[1mwandb\u001b[0m: D_train_loss █▆▅▄▃▂▂▂▁▁▁▁▁▁▁▁▁▁▁▁▁▁▁▁▁\n",
      "\u001b[34m\u001b[1mwandb\u001b[0m: D_valid_loss █▆▄▄▃▁▃▂▃▂▅▃▄▃▃▂▃▃▃▃▂▂▂▂▂\n",
      "\u001b[34m\u001b[1mwandb\u001b[0m:         G_lr ██████████▂▂▂▂▂▂▂▂▂▂▁▁▁▁▁\n",
      "\u001b[34m\u001b[1mwandb\u001b[0m: G_train_loss █▆▆▅▅▅▅▄▄▄▂▂▂▂▂▂▂▁▁▁▁▁▁▁▁\n",
      "\u001b[34m\u001b[1mwandb\u001b[0m: G_valid_loss ▂▄▁▂▃▂▄▇▆█▂▁▁▂▁▂▂▂▂▁▁▁▁▁▁\n",
      "\u001b[34m\u001b[1mwandb\u001b[0m: \n",
      "\u001b[34m\u001b[1mwandb\u001b[0m: Run summary:\n",
      "\u001b[34m\u001b[1mwandb\u001b[0m:         D_lr 0.0\n",
      "\u001b[34m\u001b[1mwandb\u001b[0m: D_train_loss 0.00014\n",
      "\u001b[34m\u001b[1mwandb\u001b[0m: D_valid_loss 1.12798\n",
      "\u001b[34m\u001b[1mwandb\u001b[0m:         G_lr 0.0\n",
      "\u001b[34m\u001b[1mwandb\u001b[0m: G_train_loss 0.01318\n",
      "\u001b[34m\u001b[1mwandb\u001b[0m: G_valid_loss 0.0159\n",
      "\u001b[34m\u001b[1mwandb\u001b[0m: \n",
      "\u001b[34m\u001b[1mwandb\u001b[0m: 🚀 View run \u001b[33msrgan_cvprj_7\u001b[0m at: \u001b[34m\u001b[4mhttps://wandb.ai/phamquangtung0606/SRGAN%20ver2/runs/srgan_cvprj_7\u001b[0m\n",
      "\u001b[34m\u001b[1mwandb\u001b[0m: Synced 3 W&B file(s), 0 media file(s), 0 artifact file(s) and 0 other file(s)\n",
      "\u001b[34m\u001b[1mwandb\u001b[0m: Find logs at: \u001b[35m\u001b[1m./wandb/run-20240322_083806-srgan_cvprj_7/logs\u001b[0m\n"
     ]
    }
   ],
   "source": [
    "checkpoint = torch.load('/kaggle/input/srgan3/model_checkpoint_latest.pth')\n",
    "srgan = checkpoint['network']\n",
    "srgan.num_epochs = 25\n",
    "srgan.optimizer_G = torch.optim.Adam(srgan.generator.parameters(), lr=1e-04, betas=BETAS)\n",
    "srgan.optimizer_D = torch.optim.Adam(srgan.discriminator.parameters(), lr=2e-06, betas=BETAS)\n",
    "srgan.scheduler_G =  torch.optim.lr_scheduler.StepLR(srgan.optimizer_G, step_size=STEP_SIZE)\n",
    "srgan.scheduler_D =  torch.optim.lr_scheduler.StepLR(srgan.optimizer_D, step_size=STEP_SIZE)\n",
    "wandb.login(key='372e034db319c23a6f5b110e14401540f2152e95')\n",
    "srgan.train_GAN()"
   ]
  },
  {
   "cell_type": "markdown",
   "id": "12ddadbe",
   "metadata": {
    "papermill": {
     "duration": 0.664769,
     "end_time": "2024-03-22T13:32:59.447274",
     "exception": false,
     "start_time": "2024-03-22T13:32:58.782505",
     "status": "completed"
    },
    "tags": []
   },
   "source": [
    "<h1>TEST</h1>"
   ]
  },
  {
   "cell_type": "code",
   "execution_count": 16,
   "id": "ab76eacc",
   "metadata": {
    "execution": {
     "iopub.execute_input": "2024-03-22T13:33:00.749064Z",
     "iopub.status.busy": "2024-03-22T13:33:00.748106Z",
     "iopub.status.idle": "2024-03-22T13:33:00.755556Z",
     "shell.execute_reply": "2024-03-22T13:33:00.754760Z"
    },
    "papermill": {
     "duration": 0.65982,
     "end_time": "2024-03-22T13:33:00.757682",
     "exception": false,
     "start_time": "2024-03-22T13:33:00.097862",
     "status": "completed"
    },
    "tags": []
   },
   "outputs": [],
   "source": [
    "class TestDataset(Dataset):\n",
    "    def __init__(self, hr_images_path):\n",
    "        super(TestDataset, self).__init__()\n",
    "        hr_images_list = os.listdir(hr_images_path)\n",
    "        self.hr_images_list = [hr_images_path + image_name for image_name in hr_images_list if image_name.endswith('HR.png')]\n",
    "    \n",
    "    def __getitem__(self, idx):\n",
    "        hr_image_path = self.hr_images_list[idx]\n",
    "        lr_image_path = hr_image_path.replace('HR', 'LR')\n",
    "        \n",
    "        hr_image = Image.open(hr_image_path)\n",
    "        lr_image = Image.open(lr_image_path)\n",
    "        \n",
    "        hr_image = transforms.functional.to_tensor(hr_image)\n",
    "        lr_image = transforms.functional.to_tensor(lr_image)\n",
    "        \n",
    "        return hr_image, lr_image\n",
    "    \n",
    "    def __len__(self):\n",
    "        return len(self.hr_images_list)"
   ]
  },
  {
   "cell_type": "code",
   "execution_count": 17,
   "id": "60717741",
   "metadata": {
    "execution": {
     "iopub.execute_input": "2024-03-22T13:33:02.192097Z",
     "iopub.status.busy": "2024-03-22T13:33:02.191334Z",
     "iopub.status.idle": "2024-03-22T13:33:02.196890Z",
     "shell.execute_reply": "2024-03-22T13:33:02.195727Z"
    },
    "papermill": {
     "duration": 0.789983,
     "end_time": "2024-03-22T13:33:02.198994",
     "exception": false,
     "start_time": "2024-03-22T13:33:01.409011",
     "status": "completed"
    },
    "tags": []
   },
   "outputs": [],
   "source": [
    "#SET5_PATH = \"/kaggle/input/super-resolution-hust/Super Resolution HUST/Set5/image_SRF_4/\"\n",
    "#SET14_PATH = \"/kaggle/input/super-resolution-hust/Super Resolution HUST/Set14/image_SRF_4/\"\n",
    "#URBAN100_PATH = \"/kaggle/input/super-resolution-hust/Super Resolution HUST/Urban100/image_SRF_4/\"\n",
    "#BSD100_PATH = \"/kaggle/input/super-resolution-hust/Super Resolution HUST/BSD100/image_SRF_4/\"\n",
    "\n",
    "#set5_dataset = TestDataset(hr_images_path=SET5_PATH)\n",
    "#set14_dataset = TestDataset(hr_images_path=SET14_PATH)\n",
    "#urban100_dataset = TestDataset(hr_images_path=URBAN100_PATH)\n",
    "#bsd100_dataset = TestDataset(hr_images_path=BSD100_PATH)\n",
    "\n",
    "#print(len(set5_dataset), len(set14_dataset), len(urban100_dataset), len(bsd100_dataset))"
   ]
  },
  {
   "cell_type": "markdown",
   "id": "98104ffe",
   "metadata": {
    "papermill": {
     "duration": 0.654559,
     "end_time": "2024-03-22T13:33:03.539624",
     "exception": false,
     "start_time": "2024-03-22T13:33:02.885065",
     "status": "completed"
    },
    "tags": []
   },
   "source": [
    "<h1>Test metrics</h1>"
   ]
  },
  {
   "cell_type": "code",
   "execution_count": 18,
   "id": "701d55bb",
   "metadata": {
    "execution": {
     "iopub.execute_input": "2024-03-22T13:33:04.852416Z",
     "iopub.status.busy": "2024-03-22T13:33:04.852053Z",
     "iopub.status.idle": "2024-03-22T13:33:04.863654Z",
     "shell.execute_reply": "2024-03-22T13:33:04.862889Z"
    },
    "papermill": {
     "duration": 0.672654,
     "end_time": "2024-03-22T13:33:04.865651",
     "exception": false,
     "start_time": "2024-03-22T13:33:04.192997",
     "status": "completed"
    },
    "tags": []
   },
   "outputs": [],
   "source": [
    "def inference(model, lr_image, hr_image=None):\n",
    "    lr_image = lr_image.unsqueeze(0).to(DEVICE)\n",
    "    with torch.no_grad():\n",
    "        sr_image = model(lr_image)\n",
    "\n",
    "    lr_image = lr_image.squeeze(0)\n",
    "    sr_image = sr_image.squeeze(0)\n",
    "\n",
    "    print(\">> Size of low-res image:\", lr_image.size())\n",
    "    print(\">> Size of super-res image:\", sr_image.size())\n",
    "    if hr_image != None:\n",
    "        print(\">> Size of high-res image:\", hr_image.size())\n",
    "\n",
    "    if hr_image != None:\n",
    "        fig, axes = plt.subplots(1, 3, figsize=(10, 6))\n",
    "        axes[0].imshow(lr_image.cpu().detach().permute((1, 2, 0)))\n",
    "        axes[0].set_title('Low Resolution')\n",
    "        axes[1].imshow(sr_image.cpu().detach().permute((1, 2, 0)))\n",
    "        axes[1].set_title('Super Resolution')\n",
    "        axes[2].imshow(hr_image.cpu().detach().permute((1, 2, 0)))\n",
    "        axes[2].set_title('High Resolution')\n",
    "        for ax in axes.flat:\n",
    "            ax.axis('off')\n",
    "\n",
    "    else:\n",
    "        fig, axes = plt.subplots(1, 2, figsize=(10, 6))\n",
    "        axes[0].imshow(lr_image.cpu().detach().permute((1, 2, 0)))\n",
    "        axes[0].set_title('Low Resolution')\n",
    "        axes[1].imshow(sr_image.cpu().detach().permute((1, 2, 0)))\n",
    "        axes[1].set_title('Super Resolution')\n",
    "        for ax in axes.flat:\n",
    "            ax.axis('off')\n",
    "\n",
    "    plt.tight_layout()        \n",
    "    plt.show()\n",
    "\n",
    "    return sr_image"
   ]
  },
  {
   "cell_type": "code",
   "execution_count": 19,
   "id": "eb5793bd",
   "metadata": {
    "execution": {
     "iopub.execute_input": "2024-03-22T13:33:06.258765Z",
     "iopub.status.busy": "2024-03-22T13:33:06.258417Z",
     "iopub.status.idle": "2024-03-22T13:33:06.267836Z",
     "shell.execute_reply": "2024-03-22T13:33:06.266968Z"
    },
    "papermill": {
     "duration": 0.753649,
     "end_time": "2024-03-22T13:33:06.269692",
     "exception": false,
     "start_time": "2024-03-22T13:33:05.516043",
     "status": "completed"
    },
    "tags": []
   },
   "outputs": [],
   "source": [
    "def test(model, hr_images, lr_images, show_image=True, idx=0):\n",
    "    hr_images = hr_images.cuda()\n",
    "    lr_images = lr_images.cuda()\n",
    "    \n",
    "    def calculate_psnr(original_images, reconstructed_images):\n",
    "        if original_images.shape != reconstructed_images.shape:\n",
    "            raise ValueError(\"Images must have the same shape\")\n",
    "\n",
    "        mse = F.mse_loss(original_images, reconstructed_images, reduction='mean')\n",
    "        max_pixel_value = 1.0\n",
    "        psnr_value = 10 * torch.log10((max_pixel_value ** 2) / mse)\n",
    "        return psnr_value.item()\n",
    "    \n",
    "    def calculate_ssim(original_images, reconstructed_images):\n",
    "\n",
    "        if original_images.shape != reconstructed_images.shape:\n",
    "            raise ValueError(\"Images in the batch must have the same shape\")\n",
    "\n",
    "        ssim_value = ssim(original_images, reconstructed_images) \n",
    "        return ssim_value.item()\n",
    "    \n",
    "    model.eval()\n",
    "    with torch.no_grad():\n",
    "        sr_images = model(lr_images)\n",
    "    \n",
    "    loss_func = nn.L1Loss(reduction='mean')\n",
    "    l1_loss = loss_func(hr_images.cpu(), sr_images.cpu()).item()\n",
    "    psnr_value = calculate_psnr(hr_images.cpu(), sr_images.cpu())\n",
    "    ssim_value = calculate_ssim(hr_images.cpu(), sr_images.cpu())\n",
    "    \n",
    "    if show_image:\n",
    "        inference(model, lr_images[idx], hr_images[idx])\n",
    "    \n",
    "    return l1_loss, psnr_value, ssim_value"
   ]
  },
  {
   "cell_type": "code",
   "execution_count": 20,
   "id": "90ce6e64",
   "metadata": {
    "execution": {
     "iopub.execute_input": "2024-03-22T13:33:07.571919Z",
     "iopub.status.busy": "2024-03-22T13:33:07.571061Z",
     "iopub.status.idle": "2024-03-22T13:33:07.579557Z",
     "shell.execute_reply": "2024-03-22T13:33:07.578579Z"
    },
    "papermill": {
     "duration": 0.659811,
     "end_time": "2024-03-22T13:33:07.581584",
     "exception": false,
     "start_time": "2024-03-22T13:33:06.921773",
     "status": "completed"
    },
    "tags": []
   },
   "outputs": [],
   "source": [
    "def test_on_dataset(model, dataset, IDX):\n",
    "    l1_batch_loss = 0\n",
    "    psnr_batch_value = 0\n",
    "    ssim_batch_value = 0\n",
    "    for i in range(len(dataset)):\n",
    "        hr_image, lr_image = dataset[i]\n",
    "        if hr_image.shape[0] != 3:\n",
    "            hr_image = hr_image.expand(3, -1, -1)\n",
    "            lr_image = lr_image.expand(3, -1, -1)\n",
    "        hr_image = hr_image.unsqueeze(0)\n",
    "        lr_image = lr_image.unsqueeze(0)\n",
    "\n",
    "        if i in IDX:\n",
    "            l1_loss, psnr_value, ssim_value = test(model, hr_image, lr_image, show_image=True)\n",
    "        else:\n",
    "            l1_loss, psnr_value, ssim_value = test(model, hr_image, lr_image, show_image=False)\n",
    "\n",
    "        l1_batch_loss += l1_loss\n",
    "        psnr_batch_value += psnr_value\n",
    "        ssim_batch_value += ssim_value\n",
    "        \n",
    "    print(\"Metrics across \" + str(len(dataset)) + \" images:\")\n",
    "    print(f\"> L1 Loss: {l1_batch_loss/len(dataset):.4f}\")\n",
    "    print(f\"> PSNR: {psnr_batch_value/len(dataset):.4f}\")\n",
    "    print(f\"> SSIM: {ssim_batch_value/len(dataset):.4f}\")\n"
   ]
  },
  {
   "cell_type": "markdown",
   "id": "f2e1d0e7",
   "metadata": {
    "papermill": {
     "duration": 0.656931,
     "end_time": "2024-03-22T13:33:08.888502",
     "exception": false,
     "start_time": "2024-03-22T13:33:08.231571",
     "status": "completed"
    },
    "tags": []
   },
   "source": [
    "<h1>TEST MODELS<h1>"
   ]
  },
  {
   "cell_type": "code",
   "execution_count": 21,
   "id": "768d8c73",
   "metadata": {
    "execution": {
     "iopub.execute_input": "2024-03-22T13:33:10.337552Z",
     "iopub.status.busy": "2024-03-22T13:33:10.336546Z",
     "iopub.status.idle": "2024-03-22T13:33:10.341251Z",
     "shell.execute_reply": "2024-03-22T13:33:10.340280Z"
    },
    "papermill": {
     "duration": 0.811421,
     "end_time": "2024-03-22T13:33:10.343368",
     "exception": false,
     "start_time": "2024-03-22T13:33:09.531947",
     "status": "completed"
    },
    "tags": []
   },
   "outputs": [],
   "source": [
    "#model = Network(for_inference=True)\n",
    "#model.load_network('/kaggle/input/srgan2/model_checkpoint_best.pth')"
   ]
  },
  {
   "cell_type": "code",
   "execution_count": 22,
   "id": "83afc85f",
   "metadata": {
    "execution": {
     "iopub.execute_input": "2024-03-22T13:33:11.648791Z",
     "iopub.status.busy": "2024-03-22T13:33:11.648429Z",
     "iopub.status.idle": "2024-03-22T13:33:11.652670Z",
     "shell.execute_reply": "2024-03-22T13:33:11.651756Z"
    },
    "papermill": {
     "duration": 0.653152,
     "end_time": "2024-03-22T13:33:11.654840",
     "exception": false,
     "start_time": "2024-03-22T13:33:11.001688",
     "status": "completed"
    },
    "tags": []
   },
   "outputs": [],
   "source": [
    "#generator = model.generator"
   ]
  },
  {
   "cell_type": "code",
   "execution_count": 23,
   "id": "95b466e9",
   "metadata": {
    "execution": {
     "iopub.execute_input": "2024-03-22T13:33:12.983505Z",
     "iopub.status.busy": "2024-03-22T13:33:12.983137Z",
     "iopub.status.idle": "2024-03-22T13:33:12.987389Z",
     "shell.execute_reply": "2024-03-22T13:33:12.986484Z"
    },
    "papermill": {
     "duration": 0.684113,
     "end_time": "2024-03-22T13:33:12.989233",
     "exception": false,
     "start_time": "2024-03-22T13:33:12.305120",
     "status": "completed"
    },
    "tags": []
   },
   "outputs": [],
   "source": [
    "#-------------------- SET5 -------------------- #\n",
    "#IDX = list(range(5))\n",
    "#test_on_dataset(generator, set5_dataset, IDX)"
   ]
  },
  {
   "cell_type": "code",
   "execution_count": 24,
   "id": "abdb6366",
   "metadata": {
    "execution": {
     "iopub.execute_input": "2024-03-22T13:33:14.374088Z",
     "iopub.status.busy": "2024-03-22T13:33:14.373188Z",
     "iopub.status.idle": "2024-03-22T13:33:14.377483Z",
     "shell.execute_reply": "2024-03-22T13:33:14.376643Z"
    },
    "papermill": {
     "duration": 0.66121,
     "end_time": "2024-03-22T13:33:14.379395",
     "exception": false,
     "start_time": "2024-03-22T13:33:13.718185",
     "status": "completed"
    },
    "tags": []
   },
   "outputs": [],
   "source": [
    "#random.seed(1989)\n",
    "#IDX = random.choices(list(range(14)), k=5)\n",
    "#test_on_dataset(generator, set14_dataset, IDX)"
   ]
  },
  {
   "cell_type": "code",
   "execution_count": 25,
   "id": "53beaf3d",
   "metadata": {
    "execution": {
     "iopub.execute_input": "2024-03-22T13:33:15.690929Z",
     "iopub.status.busy": "2024-03-22T13:33:15.690095Z",
     "iopub.status.idle": "2024-03-22T13:33:15.694046Z",
     "shell.execute_reply": "2024-03-22T13:33:15.693176Z"
    },
    "papermill": {
     "duration": 0.663925,
     "end_time": "2024-03-22T13:33:15.695889",
     "exception": false,
     "start_time": "2024-03-22T13:33:15.031964",
     "status": "completed"
    },
    "tags": []
   },
   "outputs": [],
   "source": [
    "#random.seed(1989)\n",
    "#IDX = random.choices(list(range(100)), k=5)\n",
    "#test_on_dataset(generator, urban100_dataset, IDX)"
   ]
  }
 ],
 "metadata": {
  "kaggle": {
   "accelerator": "gpu",
   "dataSources": [
    {
     "datasetId": 4029616,
     "sourceId": 7009068,
     "sourceType": "datasetVersion"
    },
    {
     "datasetId": 4120526,
     "sourceId": 7139628,
     "sourceType": "datasetVersion"
    },
    {
     "datasetId": 4648227,
     "sourceId": 7911972,
     "sourceType": "datasetVersion"
    }
   ],
   "dockerImageVersionId": 30588,
   "isGpuEnabled": true,
   "isInternetEnabled": true,
   "language": "python",
   "sourceType": "notebook"
  },
  "kernelspec": {
   "display_name": "Python 3",
   "language": "python",
   "name": "python3"
  },
  "language_info": {
   "codemirror_mode": {
    "name": "ipython",
    "version": 3
   },
   "file_extension": ".py",
   "mimetype": "text/x-python",
   "name": "python",
   "nbconvert_exporter": "python",
   "pygments_lexer": "ipython3",
   "version": "3.10.12"
  },
  "papermill": {
   "default_parameters": {},
   "duration": 17733.37832,
   "end_time": "2024-03-22T13:33:19.013845",
   "environment_variables": {},
   "exception": null,
   "input_path": "__notebook__.ipynb",
   "output_path": "__notebook__.ipynb",
   "parameters": {},
   "start_time": "2024-03-22T08:37:45.635525",
   "version": "2.4.0"
  }
 },
 "nbformat": 4,
 "nbformat_minor": 5
}
